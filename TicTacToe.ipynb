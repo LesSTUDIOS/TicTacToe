{
 "cells": [
  {
   "cell_type": "code",
   "execution_count": 3,
   "id": "016f1520-5200-486e-b3cf-519541a96b59",
   "metadata": {},
   "outputs": [],
   "source": [
    "def print_board(board):\n",
    "    for row in board:\n",
    "        print(f\"{row[0]} | {row[1]} | {row[2]}\")\n",
    "        print(\"-\" * 9)\n"
   ]
  },
  {
   "cell_type": "code",
   "execution_count": null,
   "id": "b8bfc800-c2e7-46cb-9bbf-3054c9702ade",
   "metadata": {},
   "outputs": [
    {
     "name": "stdin",
     "output_type": "stream",
     "text": [
      "Введите ряд: 2\n",
      "Введите колонку: 3\n"
     ]
    },
    {
     "name": "stdout",
     "output_type": "stream",
     "text": [
      "Нет такой клетки\n"
     ]
    },
    {
     "name": "stdin",
     "output_type": "stream",
     "text": [
      "Введите ряд: 2\n",
      "Введите колонку: 1\n"
     ]
    },
    {
     "name": "stdout",
     "output_type": "stream",
     "text": [
      "  |   |  \n",
      "---------\n",
      "  |   |  \n",
      "---------\n",
      "  | x |  \n",
      "---------\n"
     ]
    },
    {
     "name": "stdin",
     "output_type": "stream",
     "text": [
      "Введите ряд: 1\n",
      "Введите колонку: 1\n"
     ]
    },
    {
     "name": "stdout",
     "output_type": "stream",
     "text": [
      "  |   |  \n",
      "---------\n",
      "  | o |  \n",
      "---------\n",
      "  | x |  \n",
      "---------\n"
     ]
    },
    {
     "name": "stdin",
     "output_type": "stream",
     "text": [
      "Введите ряд: 1\n",
      "Введите колонку: 0\n"
     ]
    },
    {
     "name": "stdout",
     "output_type": "stream",
     "text": [
      "  |   |  \n",
      "---------\n",
      "x | o |  \n",
      "---------\n",
      "  | x |  \n",
      "---------\n"
     ]
    },
    {
     "name": "stdin",
     "output_type": "stream",
     "text": [
      "Введите ряд: 0\n",
      "Введите колонку: 1\n"
     ]
    },
    {
     "name": "stdout",
     "output_type": "stream",
     "text": [
      "  | o |  \n",
      "---------\n",
      "x | o |  \n",
      "---------\n",
      "  | x |  \n",
      "---------\n"
     ]
    },
    {
     "name": "stdin",
     "output_type": "stream",
     "text": [
      "Введите ряд: 1\n",
      "Введите колонку: 2\n"
     ]
    },
    {
     "name": "stdout",
     "output_type": "stream",
     "text": [
      "  | o |  \n",
      "---------\n",
      "x | o | x\n",
      "---------\n",
      "  | x |  \n",
      "---------\n"
     ]
    },
    {
     "name": "stdin",
     "output_type": "stream",
     "text": [
      "Введите ряд: 0\n",
      "Введите колонку: 0\n"
     ]
    },
    {
     "name": "stdout",
     "output_type": "stream",
     "text": [
      "o | o |  \n",
      "---------\n",
      "x | o | x\n",
      "---------\n",
      "  | x |  \n",
      "---------\n"
     ]
    },
    {
     "name": "stdin",
     "output_type": "stream",
     "text": [
      "Введите ряд: 0\n",
      "Введите колонку: 2\n"
     ]
    },
    {
     "name": "stdout",
     "output_type": "stream",
     "text": [
      "o | o | x\n",
      "---------\n",
      "x | o | x\n",
      "---------\n",
      "  | x |  \n",
      "---------\n"
     ]
    },
    {
     "name": "stdin",
     "output_type": "stream",
     "text": [
      "Введите ряд: 2\n",
      "Введите колонку: 0\n"
     ]
    },
    {
     "name": "stdout",
     "output_type": "stream",
     "text": [
      "o | o | x\n",
      "---------\n",
      "x | o | x\n",
      "---------\n",
      "o | x |  \n",
      "---------\n"
     ]
    },
    {
     "name": "stdin",
     "output_type": "stream",
     "text": [
      "Введите ряд: 2\n",
      "Введите колонку: 2\n"
     ]
    },
    {
     "name": "stdout",
     "output_type": "stream",
     "text": [
      "o | o | x\n",
      "---------\n",
      "x | o | x\n",
      "---------\n",
      "o | x | x\n",
      "---------\n"
     ]
    }
   ],
   "source": [
    "is_running = True\n",
    "def maketurn(row, col, player, board):\n",
    "    board[row][col] = player   \n",
    "    \n",
    "def play():\n",
    "    player = 'x'\n",
    "    board = [[' ' for i in range(3)] for i in range(3)]\n",
    "    \n",
    "    while is_running:\n",
    "        row = int(input('Введите ряд:'))\n",
    "        col = int(input('Введите колонку:'))\n",
    "        if row > 2 or col > 2:\n",
    "            print('Нет такой клетки')\n",
    "            row = int(input('Введите ряд:'))\n",
    "            col = int(input('Введите колонку:'))\n",
    "            \n",
    "        if row < 0 or col < 0:\n",
    "            print('Нет такой клетки')\n",
    "            row = int(input('Введите ряд:'))\n",
    "            col = int(input('Введите колонку:'))\n",
    "        \n",
    "    maketurn(row, col, player, board)\n",
    "        print_board(board)\n",
    "     \n",
    "        if player == 'x':\n",
    "                player = 'o'\n",
    "        else:\n",
    "            player = 'x'\n",
    "play()"
   ]
  },
  {
   "cell_type": "markdown",
   "id": "3c013a67-a77c-424e-9815-58e43a464604",
   "metadata": {},
   "source": []
  }
 ],
 "metadata": {
  "kernelspec": {
   "display_name": "Python 3 (ipykernel)",
   "language": "python",
   "name": "python3"
  },
  "language_info": {
   "codemirror_mode": {
    "name": "ipython",
    "version": 3
   },
   "file_extension": ".py",
   "mimetype": "text/x-python",
   "name": "python",
   "nbconvert_exporter": "python",
   "pygments_lexer": "ipython3",
   "version": "3.12.1"
  }
 },
 "nbformat": 4,
 "nbformat_minor": 5
}
