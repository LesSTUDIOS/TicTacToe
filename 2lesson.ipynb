{
 "cells": [
  {
   "cell_type": "code",
   "execution_count": 1,
   "id": "ed090afa-886c-406a-8c15-4c5ac85bf891",
   "metadata": {
    "scrolled": true
   },
   "outputs": [
    {
     "name": "stdin",
     "output_type": "stream",
     "text": [
      "Число от 1 до 9: 1\n"
     ]
    },
    {
     "name": "stdout",
     "output_type": "stream",
     "text": [
      "1\n",
      "2\n",
      "3\n",
      "4\n",
      "5\n",
      "6\n",
      "7\n",
      "8\n",
      "9\n"
     ]
    }
   ],
   "source": [
    "y = 1\n",
    "x = int(input('Число от 1 до 9:'))\n",
    "for y in range (1,10):\n",
    "    print(x*y)\n"
   ]
  },
  {
   "cell_type": "code",
   "execution_count": 2,
   "id": "f99533ba-19bf-4372-9603-4dae9886855f",
   "metadata": {},
   "outputs": [
    {
     "name": "stdout",
     "output_type": "stream",
     "text": [
      "X > 10\n"
     ]
    }
   ],
   "source": [
    "x = 69\n",
    "while x > 10:\n",
    "    print ('X > 10')\n",
    "    x = 0"
   ]
  },
  {
   "cell_type": "code",
   "execution_count": 3,
   "id": "848006f2-07ec-4203-8c13-7103046804cd",
   "metadata": {},
   "outputs": [
    {
     "name": "stdin",
     "output_type": "stream",
     "text": [
      "Рандомное число: 12\n"
     ]
    },
    {
     "name": "stdout",
     "output_type": "stream",
     "text": [
      "True\n",
      "True\n",
      "True\n",
      "True\n",
      "True\n",
      "True\n",
      "True\n",
      "True\n",
      "True\n",
      "True\n",
      "True\n",
      "True\n"
     ]
    }
   ],
   "source": [
    "is_running = True\n",
    "input = int(input('Рандомное число:'))\n",
    "counter = 1\n",
    "while is_running:\n",
    "    print (is_running)\n",
    "    counter +=1\n",
    "    if counter > input:\n",
    "        is_running = False"
   ]
  },
  {
   "cell_type": "code",
   "execution_count": 4,
   "id": "bce67024-7896-49ab-97db-5157b59168a0",
   "metadata": {},
   "outputs": [
    {
     "name": "stdout",
     "output_type": "stream",
     "text": [
      "milk\n",
      "meat\n",
      "cheese\n"
     ]
    }
   ],
   "source": [
    "shop_list = ['milk','meat','cheese']\n",
    "for item in shop_list:\n",
    "    print(item)"
   ]
  },
  {
   "cell_type": "code",
   "execution_count": 5,
   "id": "93d76031-10f5-4804-ace9-54ffe248f2f6",
   "metadata": {},
   "outputs": [
    {
     "name": "stdout",
     "output_type": "stream",
     "text": [
      "1830\n"
     ]
    }
   ],
   "source": [
    "number_list = [69,96,666,999]\n",
    "counter = 0\n",
    "for answer in number_list:\n",
    "    counter=counter+answer\n",
    "print(counter)"
   ]
  },
  {
   "cell_type": "code",
   "execution_count": 33,
   "id": "d4663fc4-66e1-4075-b9e8-c5f569ff2f0d",
   "metadata": {},
   "outputs": [
    {
     "name": "stdout",
     "output_type": "stream",
     "text": [
      "0.15053742570853723\n"
     ]
    }
   ],
   "source": [
    "import random as rnd\n",
    "number = rnd.random()\n",
    "print(number)"
   ]
  },
  {
   "cell_type": "code",
   "execution_count": 38,
   "id": "982462d0-6c31-45ce-b5bd-506855eebe84",
   "metadata": {},
   "outputs": [
    {
     "name": "stdout",
     "output_type": "stream",
     "text": [
      "30\n"
     ]
    }
   ],
   "source": [
    "import random as rnd\n",
    "number = rnd.randint(1,69)\n",
    "print(number)"
   ]
  },
  {
   "cell_type": "code",
   "execution_count": 33,
   "id": "4daa43c0-4799-49f8-9356-53eff78d3756",
   "metadata": {},
   "outputs": [
    {
     "name": "stdout",
     "output_type": "stream",
     "text": [
      "69\n"
     ]
    }
   ],
   "source": [
    "number_list = [69,96,666,999,23,23442,2342354,234234,2]\n",
    "import random as rnd\n",
    "number = rnd.choice(number_list)\n",
    "print(number)"
   ]
  },
  {
   "cell_type": "code",
   "execution_count": 8,
   "id": "73c5a6e8-6db7-453b-a3d8-26bfc134b64c",
   "metadata": {},
   "outputs": [
    {
     "name": "stdin",
     "output_type": "stream",
     "text": [
      "Число от 1 до 10: 2\n"
     ]
    },
    {
     "name": "stdout",
     "output_type": "stream",
     "text": [
      "u're looser answerr is: 7\n"
     ]
    }
   ],
   "source": [
    "import random as rnd\n",
    "number = rnd.randint(1,10)\n",
    "ur_ans = int(input('Число от 1 до 10:'))\n",
    "if number == ur_ans:\n",
    "    print(\"U're sigma \")\n",
    "else:\n",
    "    print(\"u're looser answerr is:\", number)"
   ]
  },
  {
   "cell_type": "code",
   "execution_count": null,
   "id": "c1fbe9d8-c250-4d96-8877-8f28e45e43d5",
   "metadata": {},
   "outputs": [],
   "source": []
  }
 ],
 "metadata": {
  "kernelspec": {
   "display_name": "Python 3 (ipykernel)",
   "language": "python",
   "name": "python3"
  },
  "language_info": {
   "codemirror_mode": {
    "name": "ipython",
    "version": 3
   },
   "file_extension": ".py",
   "mimetype": "text/x-python",
   "name": "python",
   "nbconvert_exporter": "python",
   "pygments_lexer": "ipython3",
   "version": "3.12.1"
  }
 },
 "nbformat": 4,
 "nbformat_minor": 5
}
