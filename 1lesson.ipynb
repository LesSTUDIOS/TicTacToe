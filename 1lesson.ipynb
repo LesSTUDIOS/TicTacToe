{
 "cells": [
  {
   "cell_type": "code",
   "execution_count": null,
   "id": "ac6cdacc-c4e7-40e8-aea0-6873e7cae8d4",
   "metadata": {},
   "outputs": [],
   "source": [
    "question = float(input('Are u dumb'))\n",
    "if question == 'ye':\n",
    "    answer =('you are realy dumb')\n",
    "else:\n",
    "    if question == 'yes':\n",
    "        print('you are normmal')\n",
    "    else:\n",
    "        if question == ('What do you think?')\n",
    "        print('you are not dumb')\n",
    "    else:\n",
    "    print('you are strange')\n",
    "\n",
    "\n"
   ]
  },
  {
   "cell_type": "code",
   "execution_count": 42,
   "id": "68996037-c4e6-42fa-928c-475cccb7f820",
   "metadata": {},
   "outputs": [
    {
     "name": "stdin",
     "output_type": "stream",
     "text": [
      "What u're years old? 18\n"
     ]
    },
    {
     "name": "stdout",
     "output_type": "stream",
     "text": [
      "Take u're bear\n"
     ]
    }
   ],
   "source": [
    "ales_age = float(input(\"What u're years old?\"))\n",
    "if ales_age < 18:\n",
    "    print('You most be a 18 or older to buy bear Wth? impudent youth...') \n",
    "else:\n",
    "    print(\"Take u're bear\")"
   ]
  },
  {
   "cell_type": "code",
   "execution_count": null,
   "id": "a2afbc8b-1e42-4f25-be53-ebe8a269a2ec",
   "metadata": {},
   "outputs": [],
   "source": [
    "shoplist = ['Cookies', 'milk', 'eggs', 'flour']\n",
    "have = [True, False, False, True]\n",
    "iflist = ['I need buy cookies', 'I need buy milk ', 'I need buy eggs ', 'I need buy flour ']\n",
    "if have[0] == True:\n",
    "    iflist[0] = False\n",
    "    else:\n",
    "        print('I need buy cookies ')\n",
    "if have[1] == False:\n",
    "    iflist[1] = False\n",
    "    else:\n",
    "        print('I need buy milk ')\n",
    "if have[2] == False:\n",
    "    iflist[2] = False\n",
    "    else:\n",
    "        print('I need buy eggs ')\n",
    "if have[3] == True:\n",
    "    iflist[3] = False\n",
    "\n",
    "\n"
   ]
  },
  {
   "cell_type": "code",
   "execution_count": null,
   "id": "6dd6c8c6-4c76-4271-9698-c99eb9adcafb",
   "metadata": {},
   "outputs": [],
   "source": []
  }
 ],
 "metadata": {
  "kernelspec": {
   "display_name": "Python 3 (ipykernel)",
   "language": "python",
   "name": "python3"
  },
  "language_info": {
   "codemirror_mode": {
    "name": "ipython",
    "version": 3
   },
   "file_extension": ".py",
   "mimetype": "text/x-python",
   "name": "python",
   "nbconvert_exporter": "python",
   "pygments_lexer": "ipython3",
   "version": "3.12.1"
  }
 },
 "nbformat": 4,
 "nbformat_minor": 5
}
